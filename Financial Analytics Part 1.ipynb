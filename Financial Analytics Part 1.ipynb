{
 "cells": [
  {
   "cell_type": "markdown",
   "id": "311ece2b",
   "metadata": {},
   "source": [
    "QUESTION 1"
   ]
  },
  {
   "cell_type": "code",
   "execution_count": 1,
   "id": "afd1f1cd",
   "metadata": {},
   "outputs": [],
   "source": [
    "import pandas as pd\n",
    "import numpy as np\n",
    "from scipy.optimize import minimize"
   ]
  },
  {
   "cell_type": "code",
   "execution_count": 2,
   "id": "357210b7",
   "metadata": {},
   "outputs": [],
   "source": [
    "# Load the data\n",
    "file_path = r'C:\\Users\\FahadPansota\\Desktop\\University\\Semester 3\\Financial Analytics - 632\\Week 6\\Data\\Q1\\HF_data.xlsx'\n",
    "data = pd.read_excel(file_path)"
   ]
  },
  {
   "cell_type": "code",
   "execution_count": 3,
   "id": "6991ae1c",
   "metadata": {},
   "outputs": [],
   "source": [
    "# Clean the data by removing any rows or columns that are not needed\n",
    "data_cleaned = data.drop(columns=['Unnamed: 0', 'Unnamed: 1', 'Unnamed: 3', 'Unnamed: 4'])"
   ]
  },
  {
   "cell_type": "markdown",
   "id": "6a302dd8",
   "metadata": {},
   "source": [
    "Part 1 - Excess Returns"
   ]
  },
  {
   "cell_type": "code",
   "execution_count": 4,
   "id": "5d6ec31d",
   "metadata": {},
   "outputs": [
    {
     "name": "stdout",
     "output_type": "stream",
     "text": [
      "     Ln/Sh Eq Hedge Fund USD  Eq Mkt Ntr Hedge Fund USD  \\\n",
      "0                   0.009233                  -0.007967   \n",
      "1                  -0.027111                   0.000006   \n",
      "2                  -0.041814                  -0.005214   \n",
      "3                  -0.018420                  -0.000303   \n",
      "4                   0.002350                  -0.004429   \n",
      "..                       ...                        ...   \n",
      "217                 0.026418                   0.013335   \n",
      "218                 0.004998                  -0.001553   \n",
      "219                -0.004680                  -0.004139   \n",
      "220                -0.045374                  -0.031906   \n",
      "221                 0.003438                   0.009249   \n",
      "\n",
      "     Ded Sh Bs Hedge Fund USD  Global Mac Hedge Fund USD  \\\n",
      "0                   -0.018767                  -0.001067   \n",
      "1                    0.017613                  -0.058911   \n",
      "2                    0.069127                  -0.045554   \n",
      "3                    0.010010                  -0.018733   \n",
      "4                    0.019157                   0.034639   \n",
      "..                        ...                        ...   \n",
      "217                 -0.046567                   0.007852   \n",
      "218                 -0.013541                  -0.004271   \n",
      "219                 -0.025323                  -0.002522   \n",
      "220                  0.090237                   0.001836   \n",
      "221                 -0.027231                  -0.013726   \n",
      "\n",
      "     Mngd Fut Hedge Fund USD  Emg Mkts Hedge Fund USD  \\\n",
      "0                  -0.000567                 0.102633   \n",
      "1                   0.009567                -0.013805   \n",
      "2                   0.023223                -0.048927   \n",
      "3                   0.005737                -0.086373   \n",
      "4                   0.004297                -0.010653   \n",
      "..                       ...                      ...   \n",
      "217                 0.012039                 0.029177   \n",
      "218                -0.029648                -0.007012   \n",
      "219                 0.004299                 0.001492   \n",
      "220                 0.023729                -0.037989   \n",
      "221                -0.035612                -0.001355   \n",
      "\n",
      "     Evnt Drvn Hedge Fund USD   Cnvrt Arb Hedge Fund USD  \\\n",
      "0                    0.034033                   0.000833   \n",
      "1                   -0.003950                  -0.000912   \n",
      "2                   -0.015751                  -0.012458   \n",
      "3                   -0.009373                  -0.028032   \n",
      "4                   -0.004804                  -0.013529   \n",
      "..                        ...                        ...   \n",
      "217                  0.015809                   0.018784   \n",
      "218                  0.007863                   0.005535   \n",
      "219                 -0.002299                  -0.002381   \n",
      "220                 -0.013356                  -0.008487   \n",
      "221                 -0.001814                   0.003276   \n",
      "\n",
      "     Fx Inc Arb Hedge Fund USD  \n",
      "0                     0.010233  \n",
      "1                    -0.022446  \n",
      "2                    -0.019630  \n",
      "3                    -0.004865  \n",
      "4                     0.004580  \n",
      "..                         ...  \n",
      "217                   0.010017  \n",
      "218                   0.007377  \n",
      "219                   0.006870  \n",
      "220                   0.002277  \n",
      "221                   0.007563  \n",
      "\n",
      "[222 rows x 9 columns]\n"
     ]
    }
   ],
   "source": [
    "# Calculate excess returns for each hedge fund index by subtracting the risk-free rate from each index's return\n",
    "excess_returns = data_cleaned.iloc[:, 1:].sub(data_cleaned['RF'], axis=0)\n",
    "\n",
    "# Display the excess returns\n",
    "print(excess_returns)"
   ]
  },
  {
   "cell_type": "markdown",
   "id": "9e3c5bc8",
   "metadata": {},
   "source": [
    "Part 2 - Average Return, Volatility, Sharpe ratio"
   ]
  },
  {
   "cell_type": "code",
   "execution_count": 5,
   "id": "9cddfab8",
   "metadata": {},
   "outputs": [
    {
     "name": "stdout",
     "output_type": "stream",
     "text": [
      "          Date  Portfolio Return\n",
      "0   1994-01-31          0.014289\n",
      "1   1994-02-28         -0.011105\n",
      "2   1994-03-31         -0.010778\n",
      "3   1994-04-29         -0.016705\n",
      "4   1994-05-31          0.003512\n",
      "..         ...               ...\n",
      "217 2012-02-29          0.009652\n",
      "218 2012-03-30         -0.003361\n",
      "219 2012-04-30         -0.003187\n",
      "220 2012-05-31         -0.002115\n",
      "221 2012-06-29         -0.006246\n",
      "\n",
      "[222 rows x 2 columns]\n"
     ]
    }
   ],
   "source": [
    "# Define equal weights for the portfolio\n",
    "num_strategies = 9  # Explicitly set the number of strategies to 9\n",
    "weights = np.ones(num_strategies) / num_strategies  # Create an array of equal weights (1/9)\n",
    "\n",
    "# Compute the portfolio return for each period (month)\n",
    "portfolio_returns = excess_returns.dot(weights)\n",
    "\n",
    "# Add the date column back for reference\n",
    "portfolio_returns_monthly = pd.DataFrame({'Date': data['Unnamed: 0'], 'Portfolio Return': portfolio_returns})\n",
    "\n",
    "# Convert the 'Date' column to datetime format for easier filtering\n",
    "portfolio_returns_monthly['Date'] = pd.to_datetime(portfolio_returns_monthly['Date'])\n",
    "\n",
    "# Filter the data for the two periods and compute the cumulative returns\n",
    "period1_returns = portfolio_returns_monthly[(portfolio_returns_monthly['Date'] >= '1994-01-01') & (portfolio_returns_monthly['Date'] <= '2003-12-31')]\n",
    "period2_returns = portfolio_returns_monthly[(portfolio_returns_monthly['Date'] >= '2004-01-01') & (portfolio_returns_monthly['Date'] <= '2012-12-31')]\n",
    "\n",
    "# Display the portfolio returns for each month\n",
    "print(portfolio_returns_monthly)\n"
   ]
  },
  {
   "cell_type": "code",
   "execution_count": 6,
   "id": "23fb59cb",
   "metadata": {},
   "outputs": [
    {
     "name": "stdout",
     "output_type": "stream",
     "text": [
      "Cumulative portfolio return for 1994-2003: 0.4475871244707044\n",
      "Cumulative portfolio return for 2004-2012: 0.19652605483436306\n"
     ]
    }
   ],
   "source": [
    "# Calculate the cumulative return for each period\n",
    "cumulative_return_period1 = period1_returns['Portfolio Return'].sum()\n",
    "cumulative_return_period2 = period2_returns['Portfolio Return'].sum()\n",
    "\n",
    "# Print the cumulative returns for each period\n",
    "print(f\"Cumulative portfolio return for 1994-2003: {cumulative_return_period1}\")\n",
    "print(f\"Cumulative portfolio return for 2004-2012: {cumulative_return_period2}\")"
   ]
  },
  {
   "cell_type": "code",
   "execution_count": 7,
   "id": "a36b9c6a",
   "metadata": {},
   "outputs": [
    {
     "name": "stdout",
     "output_type": "stream",
     "text": [
      "\n",
      "1994-2003 Period:\n",
      "Average Return: 0.003729892703922537\n",
      "Volatility: 0.012094636997191936\n",
      "Annualized Average Return: 0.04475871244707044\n",
      "Annualized Volatility: 0.041897051556477424\n",
      "Sharpe Ratio: 1.0683022022858932\n",
      "\n",
      "2004-2012 Period:\n",
      "Average Return: 0.001926726027787873\n",
      "Volatility: 0.014227671521679561\n",
      "Annualized Average Return: 0.023120712333454477\n",
      "Annualized Volatility: 0.0492860998978996\n",
      "Sharpe Ratio: 0.4691122320766103\n"
     ]
    }
   ],
   "source": [
    "# Split the data into two sample periods\n",
    "period1 = portfolio_returns_monthly.loc[portfolio_returns_monthly['Date'].between('1994-01-01', '2003-12-31')]\n",
    "period2 = portfolio_returns_monthly.loc[portfolio_returns_monthly['Date'].between('2004-01-01', '2012-12-31')]\n",
    "\n",
    "# Step 1: Compute the average of excess return for each month for both periods\n",
    "avg_monthly_return_period1 = period1['Portfolio Return'].mean()\n",
    "avg_monthly_return_period2 = period2['Portfolio Return'].mean()\n",
    "\n",
    "# Step 2: Compute the average of values calculated in Step 1 for both periods\n",
    "# This step is redundant as it is essentially the same as Step 1, so we'll use avg_monthly_return_period1 and avg_monthly_return_period2\n",
    "\n",
    "# Step 3: Calculate the volatility (standard deviation) for each period\n",
    "volatility_period1 = period1['Portfolio Return'].std()\n",
    "volatility_period2 = period2['Portfolio Return'].std()\n",
    "\n",
    "# Step 4: Annualize the average return\n",
    "annualized_avg_return_period1 = avg_monthly_return_period1 * 12\n",
    "annualized_avg_return_period2 = avg_monthly_return_period2 * 12\n",
    "\n",
    "# Step 5: Annualize the volatility\n",
    "annualized_volatility_period1 = volatility_period1 * np.sqrt(12)\n",
    "annualized_volatility_period2 = volatility_period2 * np.sqrt(12)\n",
    "\n",
    "# Compute the Sharpe ratio for each period\n",
    "sharpe_ratio_period1 = (annualized_avg_return_period1) / annualized_volatility_period1\n",
    "sharpe_ratio_period2 = (annualized_avg_return_period2) / annualized_volatility_period2\n",
    "\n",
    "# Display the results\n",
    "print(\"\\n1994-2003 Period:\")\n",
    "print(f\"Average Return: {avg_monthly_return_period1}\")\n",
    "print(f\"Volatility: {volatility_period1}\")\n",
    "print(f\"Annualized Average Return: {annualized_avg_return_period1}\")\n",
    "print(f\"Annualized Volatility: {annualized_volatility_period1}\")\n",
    "print(f\"Sharpe Ratio: {sharpe_ratio_period1}\")\n",
    "\n",
    "print(\"\\n2004-2012 Period:\")\n",
    "print(f\"Average Return: {avg_monthly_return_period2}\")\n",
    "print(f\"Volatility: {volatility_period2}\")\n",
    "print(f\"Annualized Average Return: {annualized_avg_return_period2}\")\n",
    "print(f\"Annualized Volatility: {annualized_volatility_period2}\")\n",
    "print(f\"Sharpe Ratio: {sharpe_ratio_period2}\")"
   ]
  },
  {
   "cell_type": "markdown",
   "id": "b43c74f5",
   "metadata": {},
   "source": [
    "Part 3 - Optimal Weights and Sharpe Ratio"
   ]
  },
  {
   "cell_type": "code",
   "execution_count": 8,
   "id": "538ba002",
   "metadata": {},
   "outputs": [
    {
     "name": "stdout",
     "output_type": "stream",
     "text": [
      "\n",
      "Optimal Portfolio for 1994-2003 Period:\n",
      "Optimal Weights: [4.01264122e-02 6.69843847e-01 7.19438302e-02 5.69958487e-03\n",
      " 2.64820956e-15 9.43353705e-15 9.94947447e-02 1.12891581e-01\n",
      " 3.51493550e-15]\n",
      "Optimal Sharpe Ratio: 2.255036055162366\n",
      "\n",
      "Comparison with Equally Weighted Portfolio:\n",
      "Sharpe Ratio (Equally Weighted): 1.0683022022858932\n",
      "Sharpe Ratio (Optimal): 2.255036055162366\n"
     ]
    }
   ],
   "source": [
    "# Ensure column names in excess_returns are consistent\n",
    "excess_returns.columns = excess_returns.columns.str.strip()\n",
    "\n",
    "# Extract the excess returns for the period 1994-2003\n",
    "period1_excess_returns = excess_returns.loc[data['Unnamed: 0'].between('1994-01-01', '2003-12-31')]\n",
    "\n",
    "# Function to calculate the negative Sharpe ratio (return to volatility ratio)\n",
    "def negative_sharpe_ratio(weights, returns):\n",
    "    portfolio_return = np.dot(weights, returns.mean()) * 12\n",
    "    portfolio_volatility = np.sqrt(np.dot(weights.T, np.dot(returns.cov() * 12, weights)))\n",
    "    sharpe_ratio = portfolio_return / portfolio_volatility\n",
    "    return -sharpe_ratio\n",
    "\n",
    "# Constraints: sum of weights is 1\n",
    "constraints = {'type': 'eq', 'fun': lambda weights: np.sum(weights) - 1}\n",
    "\n",
    "# Bounds for weights: between 0 and 1\n",
    "bounds = [(0, 1) for _ in range(num_strategies)]\n",
    "\n",
    "# Initial guess: equal weights\n",
    "initial_guess = np.ones(num_strategies) / num_strategies\n",
    "\n",
    "# Perform the optimization to find the optimal weights for 1994-2003\n",
    "optimized_result_1994_2003 = minimize(negative_sharpe_ratio, initial_guess,\n",
    "                                      args=(period1_excess_returns,),\n",
    "                                      method='SLSQP', bounds=bounds, constraints=constraints)\n",
    "\n",
    "# Get the optimal weights for 1994-2003\n",
    "optimal_weights_1994_2003 = optimized_result_1994_2003.x\n",
    "\n",
    "# Calculate the Sharpe ratio of the optimal portfolio for 1994-2003\n",
    "optimal_sharpe_ratio_1994_2003 = -optimized_result_1994_2003.fun\n",
    "\n",
    "# Display the optimal weights and Sharpe ratio for 1994-2003\n",
    "print(\"\\nOptimal Portfolio for 1994-2003 Period:\")\n",
    "print(f\"Optimal Weights: {optimal_weights_1994_2003}\")\n",
    "print(f\"Optimal Sharpe Ratio: {optimal_sharpe_ratio_1994_2003}\")\n",
    "\n",
    "# Compare with equally weighted portfolio\n",
    "print(\"\\nComparison with Equally Weighted Portfolio:\")\n",
    "print(f\"Sharpe Ratio (Equally Weighted): {sharpe_ratio_period1}\")\n",
    "print(f\"Sharpe Ratio (Optimal): {optimal_sharpe_ratio_1994_2003}\")"
   ]
  },
  {
   "cell_type": "markdown",
   "id": "10063093",
   "metadata": {},
   "source": [
    "Part 4 - Optimal Weights for next time period - Average Returns, Volatility, Sharpe Ratio"
   ]
  },
  {
   "cell_type": "code",
   "execution_count": 11,
   "id": "f9ca7a63",
   "metadata": {},
   "outputs": [
    {
     "name": "stdout",
     "output_type": "stream",
     "text": [
      "\n",
      "Monthly Portfolio Returns (2004-2012) using Optimal Weights:\n",
      "120    0.008132\n",
      "121    0.006911\n",
      "122   -0.002484\n",
      "123    0.000380\n",
      "124   -0.000313\n",
      "         ...   \n",
      "217    0.010380\n",
      "218   -0.000431\n",
      "219   -0.005294\n",
      "220   -0.018977\n",
      "221    0.004485\n",
      "Length: 102, dtype: float64\n"
     ]
    }
   ],
   "source": [
    "# Use the optimal weights found for 1994-2003\n",
    "optimal_weights_2004_2012 = optimal_weights_1994_2003\n",
    "\n",
    "# Extract the excess returns for the period 2004-2012\n",
    "period2_excess_returns = excess_returns.loc[data['Unnamed: 0'].between('2004-01-01', '2012-12-31')]\n",
    "\n",
    "# Step 1: Calculate monthly returns using optimal weights for the period 2004-2012\n",
    "portfolio_returns_2004_2012_optimal = period2_excess_returns.dot(optimal_weights_2004_2012)\n",
    "\n",
    "# Step 2: Print the monthly returns\n",
    "print(\"\\nMonthly Portfolio Returns (2004-2012) using Optimal Weights:\")\n",
    "print(portfolio_returns_2004_2012_optimal)\n"
   ]
  },
  {
   "cell_type": "code",
   "execution_count": 12,
   "id": "57bd89c2",
   "metadata": {},
   "outputs": [
    {
     "name": "stdout",
     "output_type": "stream",
     "text": [
      "\n",
      "Average Monthly Return (2004-2012) using Optimal Weights: -0.0006987892817887557\n",
      "Annualized Average Return (2004-2012) using Optimal Weights: -0.00838547138146507\n",
      "\n",
      "Monthly Volatility (2004-2012) using Optimal Weights: 0.02955109570879307\n",
      "Annualized Volatility (2004-2012) using Optimal Weights: 0.10236799837392044\n",
      "\n",
      "Sharpe Ratio (2004-2012) using Optimal Weights: -0.08191496868811861\n",
      "\n",
      "Out-of-Sample Performance (2004-2012) using Equal Weights:\n",
      "Expected Return: 0.023120712333454477\n",
      "Volatility: 0.0492860998978996\n",
      "Sharpe Ratio: 0.4691122320766103\n"
     ]
    }
   ],
   "source": [
    "# Step 3: Calculate the average of those monthly returns\n",
    "avg_monthly_return_2004_2012_optimal = portfolio_returns_2004_2012_optimal.mean()\n",
    "print(f\"\\nAverage Monthly Return (2004-2012) using Optimal Weights: {avg_monthly_return_2004_2012_optimal}\")\n",
    "\n",
    "# Step 4: Annualize the average return by multiplying by 12\n",
    "annualized_avg_return_2004_2012_optimal = avg_monthly_return_2004_2012_optimal * 12\n",
    "print(f\"Annualized Average Return (2004-2012) using Optimal Weights: {annualized_avg_return_2004_2012_optimal}\")\n",
    "\n",
    "# Step 5: Calculate the standard deviation of monthly returns\n",
    "volatility_monthly_2004_2012_optimal = portfolio_returns_2004_2012_optimal.std()\n",
    "print(f\"\\nMonthly Volatility (2004-2012) using Optimal Weights: {volatility_monthly_2004_2012_optimal}\")\n",
    "\n",
    "# Step 6: Annualize the standard deviation by multiplying by the square root of 12\n",
    "annualized_volatility_2004_2012_optimal = volatility_monthly_2004_2012_optimal * np.sqrt(12)\n",
    "print(f\"Annualized Volatility (2004-2012) using Optimal Weights: {annualized_volatility_2004_2012_optimal}\")\n",
    "\n",
    "# Step 7: Compute the Sharpe ratio\n",
    "sharpe_ratio_2004_2012_optimal = annualized_avg_return_2004_2012_optimal / annualized_volatility_2004_2012_optimal\n",
    "print(f\"\\nSharpe Ratio (2004-2012) using Optimal Weights: {sharpe_ratio_2004_2012_optimal}\")\n",
    "\n",
    "# Calculate the expected return, volatility, and Sharpe ratio for an equal-weighted portfolio over the same period\n",
    "equal_weights = np.ones(num_strategies) / num_strategies\n",
    "portfolio_returns_2004_2012_equal = period2_excess_returns.dot(equal_weights)\n",
    "avg_monthly_return_2004_2012_equal = portfolio_returns_2004_2012_equal.mean()\n",
    "annualized_avg_return_2004_2012_equal = avg_monthly_return_2004_2012_equal * 12\n",
    "volatility_monthly_2004_2012_equal = portfolio_returns_2004_2012_equal.std()\n",
    "annualized_volatility_2004_2012_equal = volatility_monthly_2004_2012_equal * np.sqrt(12)\n",
    "sharpe_ratio_2004_2012_equal = annualized_avg_return_2004_2012_equal / annualized_volatility_2004_2012_equal\n",
    "\n",
    "# Display the results for the equal-weighted portfolio\n",
    "print(\"\\nOut-of-Sample Performance (2004-2012) using Equal Weights:\")\n",
    "print(f\"Expected Return: {annualized_avg_return_2004_2012_equal}\")\n",
    "print(f\"Volatility: {annualized_volatility_2004_2012_equal}\")\n",
    "print(f\"Sharpe Ratio: {sharpe_ratio_2004_2012_equal}\")"
   ]
  },
  {
   "cell_type": "markdown",
   "id": "e229a3cd",
   "metadata": {},
   "source": [
    "Optimal Weights for 2004-2012"
   ]
  },
  {
   "cell_type": "code",
   "execution_count": 14,
   "id": "b1be4c34",
   "metadata": {},
   "outputs": [
    {
     "name": "stdout",
     "output_type": "stream",
     "text": [
      "\n",
      "Optimal Portfolio for 2004-2012 Period:\n",
      "Optimal Weights: [5.62981788e-16 8.57862847e-17 0.00000000e+00 9.09079282e-01\n",
      " 1.72233044e-15 0.00000000e+00 9.09207185e-02 2.54668182e-15\n",
      " 9.82007578e-16]\n",
      "Optimal Sharpe Ratio: 1.1971930416079115\n",
      "\n",
      "Comparison of Optimal Weights:\n",
      "Optimal Weights (1994-2003): [4.01264122e-02 6.69843847e-01 7.19438302e-02 5.69958487e-03\n",
      " 2.64820956e-15 9.43353705e-15 9.94947447e-02 1.12891581e-01\n",
      " 3.51493550e-15]\n",
      "Optimal Weights (2004-2012): [5.62981788e-16 8.57862847e-17 0.00000000e+00 9.09079282e-01\n",
      " 1.72233044e-15 0.00000000e+00 9.09207185e-02 2.54668182e-15\n",
      " 9.82007578e-16]\n"
     ]
    }
   ],
   "source": [
    "# Ensure column names in excess_returns are consistent\n",
    "excess_returns.columns = excess_returns.columns.str.strip()\n",
    "\n",
    "# Extract the excess returns for the period 2004-2012\n",
    "period2_excess_returns = excess_returns.loc[data['Unnamed: 0'].between('2004-01-01', '2012-12-31')]\n",
    "\n",
    "# Function to calculate the negative Sharpe ratio (return to volatility ratio)\n",
    "def negative_sharpe_ratio(weights, returns):\n",
    "    portfolio_return = np.dot(weights, returns.mean()) * 12\n",
    "    portfolio_volatility = np.sqrt(np.dot(weights.T, np.dot(returns.cov() * 12, weights)))\n",
    "    sharpe_ratio = portfolio_return / portfolio_volatility\n",
    "    return -sharpe_ratio\n",
    "\n",
    "# Constraints: sum of weights cannot exceed 1\n",
    "constraints = {'type': 'eq', 'fun': lambda weights: np.sum(weights) - 1}\n",
    "\n",
    "# Bounds for weights: between 0 and 1\n",
    "bounds = [(0, 1) for _ in range(num_strategies)]\n",
    "\n",
    "# Initial guess: equal weights\n",
    "initial_guess = np.ones(num_strategies) / num_strategies\n",
    "\n",
    "# Perform the optimization to find the optimal weights for 2004-2012\n",
    "optimized_result_2004_2012 = minimize(negative_sharpe_ratio, initial_guess,\n",
    "                                      args=(period2_excess_returns,),\n",
    "                                      method='SLSQP', bounds=bounds, constraints=constraints)\n",
    "\n",
    "# Get the optimal weights for 2004-2012\n",
    "optimal_weights_2004_2012_new = optimized_result_2004_2012.x\n",
    "\n",
    "# Calculate the Sharpe ratio of the optimal portfolio for 2004-2012\n",
    "optimal_sharpe_ratio_2004_2012_new = -optimized_result_2004_2012.fun\n",
    "\n",
    "# Display the optimal weights and Sharpe ratio for 2004-2012\n",
    "print(\"\\nOptimal Portfolio for 2004-2012 Period:\")\n",
    "print(f\"Optimal Weights: {optimal_weights_2004_2012_new}\")\n",
    "print(f\"Optimal Sharpe Ratio: {optimal_sharpe_ratio_2004_2012_new}\")\n",
    "\n",
    "# Compare optimal weights for 1994-2003 with 2004-2012\n",
    "print(\"\\nComparison of Optimal Weights:\")\n",
    "print(f\"Optimal Weights (1994-2003): {optimal_weights_1994_2003}\")\n",
    "print(f\"Optimal Weights (2004-2012): {optimal_weights_2004_2012_new}\")\n"
   ]
  },
  {
   "cell_type": "markdown",
   "id": "8dd34bca",
   "metadata": {},
   "source": [
    "Part 5"
   ]
  },
  {
   "cell_type": "code",
   "execution_count": 15,
   "id": "c34cfa11",
   "metadata": {},
   "outputs": [
    {
     "name": "stdout",
     "output_type": "stream",
     "text": [
      "          Date  Portfolio Return\n",
      "0   1994-01-31          0.014289\n",
      "1   1994-02-28         -0.011105\n",
      "2   1994-03-31         -0.010778\n",
      "3   1994-04-29         -0.016705\n",
      "4   1994-05-31          0.003512\n",
      "..         ...               ...\n",
      "217 2012-02-29          0.009652\n",
      "218 2012-03-30         -0.003361\n",
      "219 2012-04-30         -0.003187\n",
      "220 2012-05-31         -0.002115\n",
      "221 2012-06-29         -0.006246\n",
      "\n",
      "[222 rows x 2 columns]\n"
     ]
    }
   ],
   "source": [
    "# Using Equal Weights\n",
    "\n",
    "# Define equal weights for the portfolio\n",
    "equal_weights = np.ones(num_strategies) / num_strategies\n",
    "\n",
    "# Compute the portfolio return for each period (month) from 1994-2012 using equal weights\n",
    "portfolio_returns_equal_whole = excess_returns.dot(equal_weights)\n",
    "\n",
    "# Add the date column back for reference\n",
    "portfolio_returns_equal_whole_sample = pd.DataFrame({'Date': data['Unnamed: 0'], 'Portfolio Return': portfolio_returns_equal_whole})\n",
    "\n",
    "# Convert the 'Date' column to datetime format for easier filtering\n",
    "portfolio_returns_equal_whole_sample['Date'] = pd.to_datetime(portfolio_returns_equal_whole_sample['Date'])\n",
    "\n",
    "# Display the portfolio returns for each month\n",
    "print(portfolio_returns_equal_whole_sample)"
   ]
  },
  {
   "cell_type": "code",
   "execution_count": 16,
   "id": "9fcb1c9d",
   "metadata": {},
   "outputs": [
    {
     "name": "stdout",
     "output_type": "stream",
     "text": [
      "\n",
      "Average Monthly Return (1994-2012) using Equal Weights: 0.0029014107175903943\n",
      "Annualized Average Return (1994-2012) using Equal Weights: 0.034816928611084735\n",
      "\n",
      "Monthly Volatility (1994-2012) using Equal Weights: 0.013118276137666791\n",
      "Annualized Volatility (1994-2012) using Equal Weights: 0.045443041556314595\n",
      "\n",
      "Sharpe Ratio (1994-2012) using Equal Weights: 0.7661663352339299\n"
     ]
    }
   ],
   "source": [
    "# Calculate the average of those monthly returns\n",
    "avg_monthly_return_equal_whole = portfolio_returns_equal_whole_sample['Portfolio Return'].mean()\n",
    "print(f\"\\nAverage Monthly Return (1994-2012) using Equal Weights: {avg_monthly_return_equal_whole}\")\n",
    "\n",
    "# Annualize the average return by multiplying by 12\n",
    "annualized_avg_return_equal_whole = avg_monthly_return_equal_whole * 12\n",
    "print(f\"Annualized Average Return (1994-2012) using Equal Weights: {annualized_avg_return_equal_whole}\")\n",
    "\n",
    "# Calculate the standard deviation of monthly returns\n",
    "volatility_monthly_equal_whole = portfolio_returns_equal_whole_sample['Portfolio Return'].std()\n",
    "print(f\"\\nMonthly Volatility (1994-2012) using Equal Weights: {volatility_monthly_equal_whole}\")\n",
    "\n",
    "# Annualize the standard deviation by multiplying by the square root of 12\n",
    "annualized_volatility_equal_whole = volatility_monthly_equal_whole * np.sqrt(12)\n",
    "print(f\"Annualized Volatility (1994-2012) using Equal Weights: {annualized_volatility_equal_whole}\")\n",
    "\n",
    "# Compute the Sharpe ratio\n",
    "sharpe_ratio_equal_whole = annualized_avg_return_equal_whole / annualized_volatility_equal_whole\n",
    "print(f\"\\nSharpe Ratio (1994-2012) using Equal Weights: {sharpe_ratio_equal_whole}\")"
   ]
  },
  {
   "cell_type": "code",
   "execution_count": 17,
   "id": "616c9b95",
   "metadata": {},
   "outputs": [
    {
     "name": "stdout",
     "output_type": "stream",
     "text": [
      "          Date  Portfolio Return\n",
      "0   1994-01-31         -0.002842\n",
      "1   1994-02-28         -0.000648\n",
      "2   1994-03-31         -0.003431\n",
      "3   1994-04-29         -0.004425\n",
      "4   1994-05-31         -0.003302\n",
      "..         ...               ...\n",
      "217 2012-02-29          0.010380\n",
      "218 2012-03-30         -0.000431\n",
      "219 2012-04-30         -0.005294\n",
      "220 2012-05-31         -0.018977\n",
      "221 2012-06-29          0.004485\n",
      "\n",
      "[222 rows x 2 columns]\n"
     ]
    }
   ],
   "source": [
    "# Using Optimal Weights from 1994-2003\n",
    "\n",
    "# Use the optimal weights found for 1994-2003\n",
    "optimal_weights_1994_2003 = optimal_weights_1994_2003\n",
    "\n",
    "# Compute the portfolio return for each period (month) from 1994-2012 using optimal weights from 1994-2003\n",
    "portfolio_returns_optimal_whole = excess_returns.dot(optimal_weights_1994_2003)\n",
    "\n",
    "# Add the date column back for reference\n",
    "portfolio_returns_optimal_whole_sample = pd.DataFrame({'Date': data['Unnamed: 0'], 'Portfolio Return': portfolio_returns_optimal_whole})\n",
    "\n",
    "# Convert the 'Date' column to datetime format for easier filtering\n",
    "portfolio_returns_optimal_whole_sample['Date'] = pd.to_datetime(portfolio_returns_optimal_whole_sample['Date'])\n",
    "\n",
    "# Display the portfolio returns for each month\n",
    "print(portfolio_returns_optimal_whole_sample)"
   ]
  },
  {
   "cell_type": "code",
   "execution_count": 18,
   "id": "3ebe6cad",
   "metadata": {},
   "outputs": [
    {
     "name": "stdout",
     "output_type": "stream",
     "text": [
      "\n",
      "Average Monthly Return (1994-2012) using Optimal Weights from 1994-2003: 0.0020392670653705163\n",
      "Annualized Average Return (1994-2012) using Optimal Weights from 1994-2003: 0.024471204784446195\n",
      "\n",
      "Monthly Volatility (1994-2012) using Optimal Weights from 1994-2003: 0.020729792600532957\n",
      "Annualized Volatility (1994-2012) using Optimal Weights from 1994-2003: 0.07181010802897689\n",
      "\n",
      "Sharpe Ratio (1994-2012) using Optimal Weights from 1994-2003: 0.34077660452163017\n"
     ]
    }
   ],
   "source": [
    "# Using Optimal Weights from 1994-2003\n",
    "\n",
    "# Use the optimal weights found for 1994-2003\n",
    "optimal_weights_1994_2003 = optimal_weights_1994_2003\n",
    "\n",
    "# Compute the portfolio return for each period (month) from 1994-2012 using optimal weights from 1994-2003\n",
    "portfolio_returns_optimal_whole = excess_returns.dot(optimal_weights_1994_2003)\n",
    "\n",
    "# Add the date column back for reference\n",
    "portfolio_returns_optimal_whole_sample = pd.DataFrame({'Date': data['Unnamed: 0'], 'Portfolio Return': portfolio_returns_optimal_whole})\n",
    "\n",
    "# Convert the 'Date' column to datetime format for easier filtering\n",
    "portfolio_returns_optimal_whole_sample['Date'] = pd.to_datetime(portfolio_returns_optimal_whole_sample['Date'])\n",
    "\n",
    "# Calculate the average of those monthly returns\n",
    "avg_monthly_return_optimal_whole = portfolio_returns_optimal_whole_sample['Portfolio Return'].mean()\n",
    "print(f\"\\nAverage Monthly Return (1994-2012) using Optimal Weights from 1994-2003: {avg_monthly_return_optimal_whole}\")\n",
    "\n",
    "# Annualize the average return by multiplying by 12\n",
    "annualized_avg_return_optimal_whole = avg_monthly_return_optimal_whole * 12\n",
    "print(f\"Annualized Average Return (1994-2012) using Optimal Weights from 1994-2003: {annualized_avg_return_optimal_whole}\")\n",
    "\n",
    "# Calculate the standard deviation of monthly returns\n",
    "volatility_monthly_optimal_whole = portfolio_returns_optimal_whole_sample['Portfolio Return'].std()\n",
    "print(f\"\\nMonthly Volatility (1994-2012) using Optimal Weights from 1994-2003: {volatility_monthly_optimal_whole}\")\n",
    "\n",
    "# Annualize the standard deviation by multiplying by the square root of 12\n",
    "annualized_volatility_optimal_whole = volatility_monthly_optimal_whole * np.sqrt(12)\n",
    "print(f\"Annualized Volatility (1994-2012) using Optimal Weights from 1994-2003: {annualized_volatility_optimal_whole}\")\n",
    "\n",
    "# Compute the Sharpe ratio\n",
    "sharpe_ratio_optimal_whole = annualized_avg_return_optimal_whole / annualized_volatility_optimal_whole\n",
    "print(f\"\\nSharpe Ratio (1994-2012) using Optimal Weights from 1994-2003: {sharpe_ratio_optimal_whole}\")\n"
   ]
  },
  {
   "cell_type": "code",
   "execution_count": 19,
   "id": "945bc3c4",
   "metadata": {},
   "outputs": [
    {
     "name": "stdout",
     "output_type": "stream",
     "text": [
      "\n",
      "Comparison of Whole Sample (1994-2012) Performance:\n",
      "\n",
      "Equal Weights Portfolio (1994-2012):\n",
      "Expected Return: 0.034816928611084735\n",
      "Volatility: 0.045443041556314595\n",
      "Sharpe Ratio: 0.7661663352339299\n",
      "\n",
      "Optimal Weights Portfolio (1994-2012):\n",
      "Expected Return: 0.024471204784446195\n",
      "Volatility: 0.07181010802897689\n",
      "Sharpe Ratio: 0.34077660452163017\n"
     ]
    }
   ],
   "source": [
    "# Comparison of Results\n",
    "\n",
    "print(\"\\nComparison of Whole Sample (1994-2012) Performance:\")\n",
    "print(f\"\\nEqual Weights Portfolio (1994-2012):\")\n",
    "print(f\"Expected Return: {annualized_avg_return_equal_whole}\")\n",
    "print(f\"Volatility: {annualized_volatility_equal_whole}\")\n",
    "print(f\"Sharpe Ratio: {sharpe_ratio_equal_whole}\")\n",
    "\n",
    "print(f\"\\nOptimal Weights Portfolio (1994-2012):\")\n",
    "print(f\"Expected Return: {annualized_avg_return_optimal_whole}\")\n",
    "print(f\"Volatility: {annualized_volatility_optimal_whole}\")\n",
    "print(f\"Sharpe Ratio: {sharpe_ratio_optimal_whole}\")\n"
   ]
  },
  {
   "cell_type": "markdown",
   "id": "7a5263c5",
   "metadata": {},
   "source": [
    "Part 6"
   ]
  },
  {
   "cell_type": "markdown",
   "id": "eb37cff3",
   "metadata": {},
   "source": [
    "Yes. Given the higher expected return, lower volatility, and superior Sharpe Ratio, the equal-weighted portfolio appears to be the better choice for allocating capital across strategies for the period 1994-2012. It offers a more balanced risk-return trade-off compared to the portfolio using optimal weights from 1994-2003."
   ]
  },
  {
   "cell_type": "markdown",
   "id": "ba2f6f97",
   "metadata": {},
   "source": [
    "END OF QUESTION"
   ]
  }
 ],
 "metadata": {
  "kernelspec": {
   "display_name": "Python 3 (ipykernel)",
   "language": "python",
   "name": "python3"
  },
  "language_info": {
   "codemirror_mode": {
    "name": "ipython",
    "version": 3
   },
   "file_extension": ".py",
   "mimetype": "text/x-python",
   "name": "python",
   "nbconvert_exporter": "python",
   "pygments_lexer": "ipython3",
   "version": "3.11.5"
  }
 },
 "nbformat": 4,
 "nbformat_minor": 5
}
